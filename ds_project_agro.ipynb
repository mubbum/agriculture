{
 "cells": [
  {
   "cell_type": "markdown",
   "id": "b8d87b62",
   "metadata": {},
   "source": [
    "https://youtu.be/LXPdKhyjU7k"
   ]
  },
  {
   "cell_type": "code",
   "execution_count": 1,
   "id": "f38fed4b",
   "metadata": {},
   "outputs": [],
   "source": [
    "import pandas as pd\n",
    "import numpy as np\n",
    "\n",
    "import matplotlib.pyplot as plt\n",
    "import seaborn as sns\n",
    "\n",
    "from ipywidgets import interact"
   ]
  },
  {
   "cell_type": "code",
   "execution_count": 2,
   "id": "88fe3857",
   "metadata": {},
   "outputs": [],
   "source": [
    "# read the dataset\n",
    "data = pd.read_csv(\"data.csv\")"
   ]
  },
  {
   "cell_type": "code",
   "execution_count": 3,
   "id": "4508cad1",
   "metadata": {},
   "outputs": [
    {
     "name": "stdout",
     "output_type": "stream",
     "text": [
      "shape of the dataset (2200, 8)\n"
     ]
    }
   ],
   "source": [
    "# shape of the dataset\n",
    "print(\"shape of the dataset\" , data.shape)"
   ]
  },
  {
   "cell_type": "code",
   "execution_count": 4,
   "id": "2c33e9c4",
   "metadata": {},
   "outputs": [
    {
     "data": {
      "text/html": [
       "<div>\n",
       "<style scoped>\n",
       "    .dataframe tbody tr th:only-of-type {\n",
       "        vertical-align: middle;\n",
       "    }\n",
       "\n",
       "    .dataframe tbody tr th {\n",
       "        vertical-align: top;\n",
       "    }\n",
       "\n",
       "    .dataframe thead th {\n",
       "        text-align: right;\n",
       "    }\n",
       "</style>\n",
       "<table border=\"1\" class=\"dataframe\">\n",
       "  <thead>\n",
       "    <tr style=\"text-align: right;\">\n",
       "      <th></th>\n",
       "      <th>N</th>\n",
       "      <th>P</th>\n",
       "      <th>K</th>\n",
       "      <th>temperature</th>\n",
       "      <th>humidity</th>\n",
       "      <th>ph</th>\n",
       "      <th>rainfall</th>\n",
       "      <th>label</th>\n",
       "    </tr>\n",
       "  </thead>\n",
       "  <tbody>\n",
       "    <tr>\n",
       "      <th>0</th>\n",
       "      <td>90</td>\n",
       "      <td>42</td>\n",
       "      <td>43</td>\n",
       "      <td>20.879744</td>\n",
       "      <td>82.002744</td>\n",
       "      <td>6.502985</td>\n",
       "      <td>202.935536</td>\n",
       "      <td>rice</td>\n",
       "    </tr>\n",
       "    <tr>\n",
       "      <th>1</th>\n",
       "      <td>85</td>\n",
       "      <td>58</td>\n",
       "      <td>41</td>\n",
       "      <td>21.770462</td>\n",
       "      <td>80.319644</td>\n",
       "      <td>7.038096</td>\n",
       "      <td>226.655537</td>\n",
       "      <td>rice</td>\n",
       "    </tr>\n",
       "    <tr>\n",
       "      <th>2</th>\n",
       "      <td>60</td>\n",
       "      <td>55</td>\n",
       "      <td>44</td>\n",
       "      <td>23.004459</td>\n",
       "      <td>82.320763</td>\n",
       "      <td>7.840207</td>\n",
       "      <td>263.964248</td>\n",
       "      <td>rice</td>\n",
       "    </tr>\n",
       "    <tr>\n",
       "      <th>3</th>\n",
       "      <td>74</td>\n",
       "      <td>35</td>\n",
       "      <td>40</td>\n",
       "      <td>26.491096</td>\n",
       "      <td>80.158363</td>\n",
       "      <td>6.980401</td>\n",
       "      <td>242.864034</td>\n",
       "      <td>rice</td>\n",
       "    </tr>\n",
       "    <tr>\n",
       "      <th>4</th>\n",
       "      <td>78</td>\n",
       "      <td>42</td>\n",
       "      <td>42</td>\n",
       "      <td>20.130175</td>\n",
       "      <td>81.604873</td>\n",
       "      <td>7.628473</td>\n",
       "      <td>262.717340</td>\n",
       "      <td>rice</td>\n",
       "    </tr>\n",
       "  </tbody>\n",
       "</table>\n",
       "</div>"
      ],
      "text/plain": [
       "    N   P   K  temperature   humidity        ph    rainfall label\n",
       "0  90  42  43    20.879744  82.002744  6.502985  202.935536  rice\n",
       "1  85  58  41    21.770462  80.319644  7.038096  226.655537  rice\n",
       "2  60  55  44    23.004459  82.320763  7.840207  263.964248  rice\n",
       "3  74  35  40    26.491096  80.158363  6.980401  242.864034  rice\n",
       "4  78  42  42    20.130175  81.604873  7.628473  262.717340  rice"
      ]
     },
     "execution_count": 4,
     "metadata": {},
     "output_type": "execute_result"
    }
   ],
   "source": [
    "data.head()"
   ]
  },
  {
   "cell_type": "code",
   "execution_count": 5,
   "id": "fa980b87",
   "metadata": {},
   "outputs": [
    {
     "data": {
      "text/plain": [
       "N              0\n",
       "P              0\n",
       "K              0\n",
       "temperature    0\n",
       "humidity       0\n",
       "ph             0\n",
       "rainfall       0\n",
       "label          0\n",
       "dtype: int64"
      ]
     },
     "execution_count": 5,
     "metadata": {},
     "output_type": "execute_result"
    }
   ],
   "source": [
    "# check if there is any missing value present in the dataset\n",
    "data.isnull().sum()"
   ]
  },
  {
   "cell_type": "code",
   "execution_count": 6,
   "id": "3c5b6fcb",
   "metadata": {},
   "outputs": [],
   "source": [
    "# fill in missing data with mean or median"
   ]
  },
  {
   "cell_type": "code",
   "execution_count": 7,
   "id": "91e7b73b",
   "metadata": {
    "scrolled": false
   },
   "outputs": [
    {
     "data": {
      "text/plain": [
       "rice           100\n",
       "maize          100\n",
       "jute           100\n",
       "cotton         100\n",
       "coconut        100\n",
       "papaya         100\n",
       "orange         100\n",
       "apple          100\n",
       "muskmelon      100\n",
       "watermelon     100\n",
       "grapes         100\n",
       "mango          100\n",
       "banana         100\n",
       "pomegranate    100\n",
       "lentil         100\n",
       "blackgram      100\n",
       "mungbean       100\n",
       "mothbeans      100\n",
       "pigeonpeas     100\n",
       "kidneybeans    100\n",
       "chickpea       100\n",
       "coffee         100\n",
       "Name: label, dtype: int64"
      ]
     },
     "execution_count": 7,
     "metadata": {},
     "output_type": "execute_result"
    }
   ],
   "source": [
    "# check the Crops present in this dataset\n",
    "data[\"label\"].value_counts()"
   ]
  },
  {
   "cell_type": "code",
   "execution_count": 8,
   "id": "9c6e5fd1",
   "metadata": {},
   "outputs": [
    {
     "name": "stdout",
     "output_type": "stream",
     "text": [
      "nitrogen : 50.55\n",
      "phosphorous : 53.36\n",
      "potassium : 48.15\n",
      "temperature : 25.62\n",
      "humidity : 71.48\n",
      "ph : 6.47\n",
      "rainfall : 103.46\n"
     ]
    }
   ],
   "source": [
    "print(\"nitrogen : {0:.2f}\".format(data[\"N\"].mean()))\n",
    "print(\"phosphorous : {0:.2f}\".format(data[\"P\"].mean()))\n",
    "print(\"potassium : {0:.2f}\".format(data[\"K\"].mean()))\n",
    "print(\"temperature : {0:.2f}\".format(data[\"temperature\"].mean()))\n",
    "print(\"humidity : {0:.2f}\".format(data[\"humidity\"].mean()))\n",
    "print(\"ph : {0:.2f}\".format(data[\"ph\"].mean()))\n",
    "print(\"rainfall : {0:.2f}\".format(data[\"rainfall\"].mean()))"
   ]
  },
  {
   "cell_type": "code",
   "execution_count": 9,
   "id": "885168f5",
   "metadata": {
    "scrolled": false
   },
   "outputs": [
    {
     "data": {
      "application/vnd.jupyter.widget-view+json": {
       "model_id": "05cf1e82a30647b9a6c2529eb5adce9b",
       "version_major": 2,
       "version_minor": 0
      },
      "text/plain": [
       "interactive(children=(Dropdown(description='crops', options=('rice', 'maize', 'jute', 'cotton', 'coconut', 'pa…"
      ]
     },
     "metadata": {},
     "output_type": "display_data"
    }
   ],
   "source": [
    "# check the summary statistics for each of the Crops\n",
    "@interact\n",
    "def summary(crops = list(data[\"label\"].value_counts().index)):\n",
    "    x = data[(data[\"label\"] == crops)]\n",
    "    print(\"..........................................\")\n",
    "    print(\"STATİSTİCS for Nitrogen\")\n",
    "    print( \"minimum nitrogen required :\", x[\"N\"].min())\n",
    "    print( \"average nitrogen required :\", x[\"N\"].mean())\n",
    "    print( \"maximum nitrogen required :\", x[\"N\"].max())\n",
    "    print(\"..........................................\")\n",
    "    print(\"STATİSTİCS for phophorous\")\n",
    "    print( \"minimum phophorous required :\", x[\"P\"].min())\n",
    "    print( \"average phophorous required :\", x[\"P\"].mean())\n",
    "    print( \"maximum phophorous required :\", x[\"P\"].max())\n",
    "    print(\"..........................................\")\n",
    "    print(\"STATİSTİCS for potassium\")\n",
    "    print( \"minimum potassium required :\", x[\"K\"].min())\n",
    "    print( \"average potassium required :\", x[\"K\"].mean())\n",
    "    print( \"maximum potassium required :\", x[\"K\"].max())\n",
    "    print(\"..........................................\")\n",
    "    print(\"STATİSTİCS for temperature\")\n",
    "    print( \"minimum temperature required :\", x[\"temperature\"].min())\n",
    "    print( \"average temperature required :\", x[\"temperature\"].mean())\n",
    "    print( \"maximum temperature required :\", x[\"temperature\"].max())\n",
    "    print(\"..........................................\")\n",
    "    print(\"STATİSTİCS for humidity\")\n",
    "    print( \"minimum humidity required :\", x[\"humidity\"].min())\n",
    "    print( \"average humidity required :\", x[\"humidity\"].mean())\n",
    "    print( \"maximum humidity required :\", x[\"humidity\"].max())\n",
    "    print(\"..........................................\")\n",
    "    print(\"STATİSTİCS for ph\")\n",
    "    print( \"minimum ph required :\", x[\"ph\"].min())\n",
    "    print( \"average ph required :\", x[\"ph\"].mean())\n",
    "    print( \"maximum ph required :\", x[\"ph\"].max())\n",
    "    print(\"..........................................\")\n",
    "    print(\"STATİSTİCS for rainfall\")\n",
    "    print( \"minimum rainfall required :\", x[\"rainfall\"].min())\n",
    "    print( \"average rainfall required :\", x[\"rainfall\"].mean())\n",
    "    print( \"maximum rainfall required :\", x[\"rainfall\"].max())\n",
    "    "
   ]
  },
  {
   "cell_type": "code",
   "execution_count": 10,
   "id": "022feb3a",
   "metadata": {},
   "outputs": [
    {
     "data": {
      "application/vnd.jupyter.widget-view+json": {
       "model_id": "cbb2bdf3ac2e499f9584a8c6f0dfc938",
       "version_major": 2,
       "version_minor": 0
      },
      "text/plain": [
       "interactive(children=(Dropdown(description='conditions', options=('N', 'P', 'K', 'temperature', 'humidity', 'p…"
      ]
     },
     "metadata": {},
     "output_type": "display_data"
    }
   ],
   "source": [
    "# compare the avarage requirement for each crops with average conditions\n",
    "@interact\n",
    "def compare(conditions = [\"N\",\"P\",\"K\",\"temperature\",\"humidity\",\"ph\",\"rainfall\"]):\n",
    "    print(\"Average value for\" ,conditions , \"is {0:.2f}\".format(data[conditions].mean()))\n",
    "    print(\"..............................................\")\n",
    "    print(\"Rice : {0:.2f}\".format(data[data[\"label\"] == \"rice\"][conditions].mean()))\n",
    "    print(\"Black Grams : {0:.2f}\".format(data[data[\"label\"] == \"blackgram\"][conditions].mean()))\n",
    "    print(\"banana : {0:.2f}\".format(data[data[\"label\"] == \"banana\"][conditions].mean()))\n",
    "    print(\"jute : {0:.2f}\".format(data[data[\"label\"] == \"jute\"][conditions].mean()))\n",
    "    print(\"coconut : {0:.2f}\".format(data[data[\"label\"] == \"coconut\"][conditions].mean()))\n",
    "    print(\"apple : {0:.2f}\".format(data[data[\"label\"] == \"apple\"][conditions].mean()))\n",
    "    print(\"papaya : {0:.2f}\".format(data[data[\"label\"] == \"papaya\"][conditions].mean()))\n",
    "    print(\"muskmelon : {0:.2f}\".format(data[data[\"label\"] == \"muskmelon\"][conditions].mean()))\n",
    "    print(\"grapes : {0:.2f}\".format(data[data[\"label\"] == \"grapes\"][conditions].mean()))\n",
    "    print(\"watermelon : {0:.2f}\".format(data[data[\"label\"] == \"watermelon\"][conditions].mean()))\n",
    "    print(\"kidneybeans : {0:.2f}\".format(data[data[\"label\"] == \"kidneybeans\"][conditions].mean()))\n",
    "    print(\"mungbean : {0:.2f}\".format(data[data[\"label\"] == \"mungbean\"][conditions].mean()))\n",
    "    print(\"orange : {0:.2f}\".format(data[data[\"label\"] == \"orange\"][conditions].mean()))\n",
    "    print(\"chickpea : {0:.2f}\".format(data[data[\"label\"] == \"chickpea\"][conditions].mean()))\n",
    "    print(\"lentil : {0:.2f}\".format(data[data[\"label\"] == \"lentil\"][conditions].mean()))\n",
    "    print(\"cotton : {0:.2f}\".format(data[data[\"label\"] == \"cotton\"][conditions].mean()))\n",
    "    print(\"maize : {0:.2f}\".format(data[data[\"label\"] == \"maize\"][conditions].mean()))\n",
    "    print(\"mothbeans : {0:.2f}\".format(data[data[\"label\"] == \"mothbeans\"][conditions].mean()))\n",
    "    print(\"pigeonpeas : {0:.2f}\".format(data[data[\"label\"] == \"pigeonpeas\"][conditions].mean()))\n",
    "    print(\"mango : {0:.2f}\".format(data[data[\"label\"] == \"mango\"][conditions].mean()))\n",
    "    print(\"pomegranate : {0:.2f}\".format(data[data[\"label\"] == \"pomegranate\"][conditions].mean()))\n",
    "    print(\"coffee : {0:.2f}\".format(data[data[\"label\"] == \"coffee\"][conditions].mean()))"
   ]
  },
  {
   "cell_type": "code",
   "execution_count": 11,
   "id": "8b79e3ff",
   "metadata": {},
   "outputs": [
    {
     "data": {
      "application/vnd.jupyter.widget-view+json": {
       "model_id": "308ff8fa53a94b93bbf03d40a5d90873",
       "version_major": 2,
       "version_minor": 0
      },
      "text/plain": [
       "interactive(children=(Dropdown(description='conditions', options=('N', 'P', 'K', 'temperature', 'humidity', 'p…"
      ]
     },
     "metadata": {},
     "output_type": "display_data"
    }
   ],
   "source": [
    "# make this funtion more intvitive\n",
    "@interact\n",
    "def compare(conditions = [\"N\",\"P\",\"K\",\"temperature\",\"humidity\",\"ph\",\"rainfall\"]):\n",
    "    print(\"crops which require greater than average\" , conditions , \"\\n\")\n",
    "    print(data[data[conditions] > data[conditions].mean()][\"label\"].unique())\n",
    "    print(\"..............................................\")    \n",
    "    print(\"crops which require less than average\" , conditions , \"\\n\")\n",
    "    print(data[data[conditions] < data[conditions].mean()][\"label\"].unique())"
   ]
  },
  {
   "cell_type": "markdown",
   "id": "db5117be",
   "metadata": {},
   "source": [
    "## DISTRIBUTION"
   ]
  },
  {
   "cell_type": "code",
   "execution_count": 12,
   "id": "be154980",
   "metadata": {},
   "outputs": [
    {
     "data": {
      "image/png": "[encoded data removed]",
      "text/plain": [
       "<Figure size 1080x504 with 7 Axes>"
      ]
     },
     "metadata": {
      "needs_background": "light"
     },
     "output_type": "display_data"
    }
   ],
   "source": [
    "# check the distribution of agricultural conditions\n",
    "\n",
    "plt.rcParams[\"figure.figsize\"] = (15, 7)\n",
    "\n",
    "plt.subplot(2, 4, 1)\n",
    "sns.histplot(data[\"N\"], color = \"lightgrey\")\n",
    "plt.xlabel(\"Nitrogen\" , fontsize = 12)\n",
    "plt.grid()\n",
    "\n",
    "plt.subplot(2, 4, 2)\n",
    "sns.histplot(data[\"P\"], color = \"skyblue\")\n",
    "plt.xlabel(\"Phosphorous\" , fontsize = 12)\n",
    "plt.grid()\n",
    "\n",
    "plt.subplot(2, 4, 7)\n",
    "sns.histplot(data[\"K\"], color = \"lightgrey\")\n",
    "plt.xlabel(\"Potassium\" , fontsize = 12)\n",
    "plt.grid()\n",
    "\n",
    "plt.subplot(2, 4, 3)\n",
    "sns.histplot(data[\"temperature\"], color = \"darkblue\")\n",
    "plt.xlabel(\"Temperature\" , fontsize = 12)\n",
    "plt.grid()\n",
    "\n",
    "plt.subplot(2, 4, 4)\n",
    "sns.histplot(data[\"rainfall\"], color = \"grey\")\n",
    "plt.xlabel(\"Rainfall\" , fontsize = 12)\n",
    "plt.grid()\n",
    "\n",
    "plt.subplot(2, 4, 5)\n",
    "sns.histplot(data[\"humidity\"], color = \"lightgrey\")\n",
    "plt.xlabel(\"Humidity\" , fontsize = 12)\n",
    "plt.grid()\n",
    "\n",
    "plt.subplot(2, 4, 6)\n",
    "sns.histplot(data[\"ph\"], color = \"lightgrey\")\n",
    "plt.xlabel(\"ph\" , fontsize = 12)\n",
    "plt.grid()"
   ]
  },
  {
   "cell_type": "code",
   "execution_count": 13,
   "id": "f793fb51",
   "metadata": {},
   "outputs": [],
   "source": [
    "# find out some interesting facts\n",
    "# belli değerlerin altındaki ve üstündeki değerleri bul"
   ]
  },
  {
   "cell_type": "code",
   "execution_count": 14,
   "id": "a1118f4c",
   "metadata": {},
   "outputs": [],
   "source": [
    "# understand which crops can only be grown in summer season winter season and rainy  season\n",
    "#yaz kış olarak ve yağmur isteyenler olarak ayır"
   ]
  },
  {
   "cell_type": "code",
   "execution_count": 15,
   "id": "5414d438",
   "metadata": {},
   "outputs": [
    {
     "name": "stdout",
     "output_type": "stream",
     "text": [
      "(2200, 7)\n"
     ]
    },
    {
     "data": {
      "text/html": [
       "<div>\n",
       "<style scoped>\n",
       "    .dataframe tbody tr th:only-of-type {\n",
       "        vertical-align: middle;\n",
       "    }\n",
       "\n",
       "    .dataframe tbody tr th {\n",
       "        vertical-align: top;\n",
       "    }\n",
       "\n",
       "    .dataframe thead th {\n",
       "        text-align: right;\n",
       "    }\n",
       "</style>\n",
       "<table border=\"1\" class=\"dataframe\">\n",
       "  <thead>\n",
       "    <tr style=\"text-align: right;\">\n",
       "      <th></th>\n",
       "      <th>0</th>\n",
       "      <th>1</th>\n",
       "      <th>2</th>\n",
       "      <th>3</th>\n",
       "      <th>4</th>\n",
       "      <th>5</th>\n",
       "      <th>6</th>\n",
       "    </tr>\n",
       "  </thead>\n",
       "  <tbody>\n",
       "    <tr>\n",
       "      <th>0</th>\n",
       "      <td>90.0</td>\n",
       "      <td>42.0</td>\n",
       "      <td>43.0</td>\n",
       "      <td>20.879744</td>\n",
       "      <td>6.502985</td>\n",
       "      <td>82.002744</td>\n",
       "      <td>202.935536</td>\n",
       "    </tr>\n",
       "    <tr>\n",
       "      <th>1</th>\n",
       "      <td>85.0</td>\n",
       "      <td>58.0</td>\n",
       "      <td>41.0</td>\n",
       "      <td>21.770462</td>\n",
       "      <td>7.038096</td>\n",
       "      <td>80.319644</td>\n",
       "      <td>226.655537</td>\n",
       "    </tr>\n",
       "    <tr>\n",
       "      <th>2</th>\n",
       "      <td>60.0</td>\n",
       "      <td>55.0</td>\n",
       "      <td>44.0</td>\n",
       "      <td>23.004459</td>\n",
       "      <td>7.840207</td>\n",
       "      <td>82.320763</td>\n",
       "      <td>263.964248</td>\n",
       "    </tr>\n",
       "    <tr>\n",
       "      <th>3</th>\n",
       "      <td>74.0</td>\n",
       "      <td>35.0</td>\n",
       "      <td>40.0</td>\n",
       "      <td>26.491096</td>\n",
       "      <td>6.980401</td>\n",
       "      <td>80.158363</td>\n",
       "      <td>242.864034</td>\n",
       "    </tr>\n",
       "    <tr>\n",
       "      <th>4</th>\n",
       "      <td>78.0</td>\n",
       "      <td>42.0</td>\n",
       "      <td>42.0</td>\n",
       "      <td>20.130175</td>\n",
       "      <td>7.628473</td>\n",
       "      <td>81.604873</td>\n",
       "      <td>262.717340</td>\n",
       "    </tr>\n",
       "  </tbody>\n",
       "</table>\n",
       "</div>"
      ],
      "text/plain": [
       "      0     1     2          3         4          5           6\n",
       "0  90.0  42.0  43.0  20.879744  6.502985  82.002744  202.935536\n",
       "1  85.0  58.0  41.0  21.770462  7.038096  80.319644  226.655537\n",
       "2  60.0  55.0  44.0  23.004459  7.840207  82.320763  263.964248\n",
       "3  74.0  35.0  40.0  26.491096  6.980401  80.158363  242.864034\n",
       "4  78.0  42.0  42.0  20.130175  7.628473  81.604873  262.717340"
      ]
     },
     "execution_count": 15,
     "metadata": {},
     "output_type": "execute_result"
    }
   ],
   "source": [
    "# try to cluster(kümeleme) these crops\n",
    "\n",
    "# import the warnings library so that we can avoid warnings\n",
    "\n",
    "from sklearn.cluster import KMeans\n",
    "import warnings\n",
    "warnings.filterwarnings(\"ignore\")\n",
    "\n",
    "# select the spending score, and annual income columns from the data\n",
    "x = data.loc[:, [\"N\",\"P\",\"K\",\"temperature\",\"ph\",\"humidity\",\"rainfall\"]].values\n",
    "\n",
    "#check the shape of x\n",
    "print(x.shape)\n",
    "\n",
    "#convert this data into a dataframe\n",
    "x_data = pd.DataFrame(x)\n",
    "x_data.head()"
   ]
  },
  {
   "cell_type": "code",
   "execution_count": 19,
   "id": "f81a1fd3",
   "metadata": {},
   "outputs": [
    {
     "data": {
      "text/plain": [
       "[<matplotlib.lines.Line2D at 0x2b4c0049b20>]"
      ]
     },
     "execution_count": 19,
     "metadata": {},
     "output_type": "execute_result"
    },
    {
     "data": {
      "image/png": "[encoded data removed]",
      "text/plain": [
       "<Figure size 720x288 with 1 Axes>"
      ]
     },
     "metadata": {
      "needs_background": "light"
     },
     "output_type": "display_data"
    }
   ],
   "source": [
    "# determine the optimum number of clusters within the dataset\n",
    "\n",
    "plt.rcParams[\"figure.figsize\"] = (10, 4)\n",
    "\n",
    "wcss = []\n",
    "for i in range(1,11):\n",
    "    km = KMeans(n_clusters = i , init = \"k-means++\" , max_iter = 300 , n_init = 10 , random_state = 0)\n",
    "    km.fit(x)\n",
    "    wcss.append(km.inertia_)\n",
    "    \n",
    "# plot the results\n",
    "plt.plot(range(1,11) , wcss)"
   ]
  },
  {
   "cell_type": "code",
   "execution_count": 26,
   "id": "23cf6ff2",
   "metadata": {},
   "outputs": [
    {
     "name": "stdout",
     "output_type": "stream",
     "text": [
      "check the results after applying the K Means clustering analysis \n",
      "\n",
      "crops in first cluster :  ['maize' 'chickpea' 'kidneybeans' 'pigeonpeas' 'mothbeans' 'mungbean'\n",
      " 'blackgram' 'lentil' 'pomegranate' 'mango' 'orange' 'papaya' 'coconut']\n",
      "..................................................................\n",
      "crops in second cluster :  ['maize' 'banana' 'watermelon' 'muskmelon' 'papaya' 'cotton' 'coffee']\n",
      "..................................................................\n",
      "crops in third cluster :  ['grapes' 'apple']\n",
      "..................................................................\n",
      "crops in forth cluster :  ['rice' 'pigeonpeas' 'papaya' 'coconut' 'jute' 'coffee']\n",
      "..................................................................\n"
     ]
    }
   ],
   "source": [
    "# implement the k means algorithm to perform clustering analysis\n",
    "km = KMeans(n_clusters = 4 , init = \"k-means++\" , max_iter = 300 , n_init = 10 , random_state = 0)\n",
    "y_means = km.fit_predict(x)\n",
    "\n",
    "# find out the results\n",
    "a = data[\"label\"]\n",
    "y_means = pd.DataFrame(y_means)\n",
    "z = pd.concat([y_means , a] , axis = 1)\n",
    "z = z.rename(columns = {0: \"cluster\"})\n",
    "\n",
    "#check the clusters of each crops\n",
    "print(\"check the results after applying the K Means clustering analysis \\n\")\n",
    "print(\"crops in first cluster : \" , z[z[\"cluster\"]==0][\"label\"].unique())\n",
    "print(\"..................................................................\")\n",
    "print(\"crops in second cluster : \" , z[z[\"cluster\"]==1][\"label\"].unique())\n",
    "print(\"..................................................................\")\n",
    "print(\"crops in third cluster : \" , z[z[\"cluster\"]==2][\"label\"].unique())\n",
    "print(\"..................................................................\")\n",
    "print(\"crops in forth cluster : \" , z[z[\"cluster\"]==3][\"label\"].unique())\n",
    "print(\"..................................................................\")"
   ]
  },
  {
   "cell_type": "code",
   "execution_count": 28,
   "id": "7b26cbdc",
   "metadata": {},
   "outputs": [
    {
     "name": "stdout",
     "output_type": "stream",
     "text": [
      "shape of x :  (2200, 7)\n",
      "shape of y :  (2200,)\n"
     ]
    }
   ],
   "source": [
    "# split the dataset for predictive modelling\n",
    "y = data[\"label\"]\n",
    "x = data.drop([\"label\"] , axis = 1)\n",
    "\n",
    "print(\"shape of x : \" , x.shape)\n",
    "print(\"shape of y : \" , y.shape)"
   ]
  },
  {
   "cell_type": "code",
   "execution_count": 29,
   "id": "736a2701",
   "metadata": {},
   "outputs": [
    {
     "name": "stdout",
     "output_type": "stream",
     "text": [
      "the shape of x_train :  (1760, 7)\n",
      "the shape of x_test :  (440, 7)\n",
      "the shape of y_train :  (1760,)\n",
      "the shape of y_test :  (440,)\n"
     ]
    }
   ],
   "source": [
    "#create training and testing sets for validation of results\n",
    "from sklearn.model_selection import train_test_split\n",
    "\n",
    "x_train , x_test , y_train , y_test = train_test_split(x,y, test_size = 0.2 , random_state = 0)\n",
    "\n",
    "print(\"the shape of x_train : \" , x_train.shape)\n",
    "print(\"the shape of x_test : \" , x_test.shape)\n",
    "print(\"the shape of y_train : \" , y_train.shape)\n",
    "print(\"the shape of y_test : \" , y_test.shape)"
   ]
  },
  {
   "cell_type": "code",
   "execution_count": 33,
   "id": "323978c1",
   "metadata": {},
   "outputs": [],
   "source": [
    "# create a predictive model\n",
    "from sklearn.linear_model import LogisticRegression\n",
    "\n",
    "model = LogisticRegression()\n",
    "model.fit(x_train , y_train)\n",
    "y_pred = model.predict(x_test)"
   ]
  },
  {
   "cell_type": "code",
   "execution_count": 37,
   "id": "8ec4eb4a",
   "metadata": {},
   "outputs": [
    {
     "name": "stdout",
     "output_type": "stream",
     "text": [
      "              precision    recall  f1-score   support\n",
      "\n",
      "       apple       1.00      1.00      1.00        18\n",
      "      banana       1.00      1.00      1.00        18\n",
      "   blackgram       0.86      0.82      0.84        22\n",
      "    chickpea       1.00      1.00      1.00        23\n",
      "     coconut       1.00      1.00      1.00        15\n",
      "      coffee       1.00      1.00      1.00        17\n",
      "      cotton       0.89      1.00      0.94        16\n",
      "      grapes       1.00      1.00      1.00        18\n",
      "        jute       0.84      1.00      0.91        21\n",
      " kidneybeans       1.00      1.00      1.00        20\n",
      "      lentil       0.94      0.94      0.94        17\n",
      "       maize       0.94      0.89      0.91        18\n",
      "       mango       1.00      1.00      1.00        21\n",
      "   mothbeans       0.88      0.92      0.90        25\n",
      "    mungbean       1.00      1.00      1.00        17\n",
      "   muskmelon       1.00      1.00      1.00        23\n",
      "      orange       1.00      1.00      1.00        23\n",
      "      papaya       1.00      0.95      0.98        21\n",
      "  pigeonpeas       1.00      1.00      1.00        22\n",
      " pomegranate       1.00      1.00      1.00        23\n",
      "        rice       1.00      0.84      0.91        25\n",
      "  watermelon       1.00      1.00      1.00        17\n",
      "\n",
      "    accuracy                           0.97       440\n",
      "   macro avg       0.97      0.97      0.97       440\n",
      "weighted avg       0.97      0.97      0.97       440\n",
      "\n"
     ]
    }
   ],
   "source": [
    "# evaluate the model performance\n",
    "from sklearn.metrics import classification_report\n",
    "\n",
    "# print the classification report also\n",
    "cr = classification_report(y_test , y_pred)\n",
    "print(cr)"
   ]
  },
  {
   "cell_type": "code",
   "execution_count": null,
   "id": "60685d89",
   "metadata": {},
   "outputs": [],
   "source": []
  }
 ],
 "metadata": {
  "kernelspec": {
   "display_name": "Python 3 (ipykernel)",
   "language": "python",
   "name": "python3"
  },
  "language_info": {
   "codemirror_mode": {
    "name": "ipython",
    "version": 3
   },
   "file_extension": ".py",
   "mimetype": "text/x-python",
   "name": "python",
   "nbconvert_exporter": "python",
   "pygments_lexer": "ipython3",
   "version": "3.9.7"
  }
 },
 "nbformat": 4,
 "nbformat_minor": 5
}
